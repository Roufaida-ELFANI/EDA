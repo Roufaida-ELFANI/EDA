{
 "cells": [
  {
   "cell_type": "markdown",
   "id": "7dac45e8",
   "metadata": {},
   "source": [
    "# Exploratory Data Analysis (EDA)"
   ]
  },
  {
   "cell_type": "markdown",
   "id": "c2861e3a",
   "metadata": {},
   "source": [
    "**L'objectif** de ce projet est de mener une analyse exploratoire des données sur un ensemble de données provenant d'une société spécialisée dans les services de cartographie et de navigation en temps réel.\n",
    "\n",
    "**Le but** est d'explorer l'ensemble de données et d'ajouter des visualisations pertinentes qui aident à communiquer l'histoire que les données racontent.\n",
    "\n",
    "Ce mini-projet comporte 3 parties :\n",
    "\n",
    "**Partie 1** : Exploration des données\n",
    "\n",
    "* Nettoyage des données\n",
    "\n",
    "**Partie 2** : Construire des visualisations\n",
    "\n",
    "**Partie 3** : Évaluation et partage des résultats"
   ]
  },
  {
   "cell_type": "code",
   "execution_count": 1,
   "id": "0e8a272d",
   "metadata": {},
   "outputs": [],
   "source": [
    "import opendatasets as od\n",
    "import pandas as pd\n",
    "import matplotlib.pyplot as plt\n",
    "import seaborn as sns\n",
    "import scipy.stats\n",
    "import numpy as np"
   ]
  },
  {
   "cell_type": "code",
   "execution_count": 2,
   "id": "1906cc1c",
   "metadata": {},
   "outputs": [
    {
     "data": {
      "text/html": [
       "<div>\n",
       "<style scoped>\n",
       "    .dataframe tbody tr th:only-of-type {\n",
       "        vertical-align: middle;\n",
       "    }\n",
       "\n",
       "    .dataframe tbody tr th {\n",
       "        vertical-align: top;\n",
       "    }\n",
       "\n",
       "    .dataframe thead th {\n",
       "        text-align: right;\n",
       "    }\n",
       "</style>\n",
       "<table border=\"1\" class=\"dataframe\">\n",
       "  <thead>\n",
       "    <tr style=\"text-align: right;\">\n",
       "      <th></th>\n",
       "      <th>ID</th>\n",
       "      <th>label</th>\n",
       "      <th>sessions</th>\n",
       "      <th>drives</th>\n",
       "      <th>total_sessions</th>\n",
       "      <th>n_days_after_onboarding</th>\n",
       "      <th>total_navigations_fav1</th>\n",
       "      <th>total_navigations_fav2</th>\n",
       "      <th>driven_km_drives</th>\n",
       "      <th>duration_minutes_drives</th>\n",
       "      <th>activity_days</th>\n",
       "      <th>driving_days</th>\n",
       "      <th>device</th>\n",
       "    </tr>\n",
       "  </thead>\n",
       "  <tbody>\n",
       "    <tr>\n",
       "      <th>0</th>\n",
       "      <td>0</td>\n",
       "      <td>retained</td>\n",
       "      <td>283</td>\n",
       "      <td>226</td>\n",
       "      <td>296.748273</td>\n",
       "      <td>2276</td>\n",
       "      <td>208</td>\n",
       "      <td>0</td>\n",
       "      <td>2628.845068</td>\n",
       "      <td>1985.775061</td>\n",
       "      <td>28</td>\n",
       "      <td>19</td>\n",
       "      <td>Android</td>\n",
       "    </tr>\n",
       "    <tr>\n",
       "      <th>1</th>\n",
       "      <td>1</td>\n",
       "      <td>retained</td>\n",
       "      <td>133</td>\n",
       "      <td>107</td>\n",
       "      <td>326.896596</td>\n",
       "      <td>1225</td>\n",
       "      <td>19</td>\n",
       "      <td>64</td>\n",
       "      <td>13715.920550</td>\n",
       "      <td>3160.472914</td>\n",
       "      <td>13</td>\n",
       "      <td>11</td>\n",
       "      <td>iPhone</td>\n",
       "    </tr>\n",
       "    <tr>\n",
       "      <th>2</th>\n",
       "      <td>2</td>\n",
       "      <td>retained</td>\n",
       "      <td>114</td>\n",
       "      <td>95</td>\n",
       "      <td>135.522926</td>\n",
       "      <td>2651</td>\n",
       "      <td>0</td>\n",
       "      <td>0</td>\n",
       "      <td>3059.148818</td>\n",
       "      <td>1610.735904</td>\n",
       "      <td>14</td>\n",
       "      <td>8</td>\n",
       "      <td>Android</td>\n",
       "    </tr>\n",
       "    <tr>\n",
       "      <th>3</th>\n",
       "      <td>3</td>\n",
       "      <td>retained</td>\n",
       "      <td>49</td>\n",
       "      <td>40</td>\n",
       "      <td>67.589221</td>\n",
       "      <td>15</td>\n",
       "      <td>322</td>\n",
       "      <td>7</td>\n",
       "      <td>913.591123</td>\n",
       "      <td>587.196542</td>\n",
       "      <td>7</td>\n",
       "      <td>3</td>\n",
       "      <td>iPhone</td>\n",
       "    </tr>\n",
       "    <tr>\n",
       "      <th>4</th>\n",
       "      <td>4</td>\n",
       "      <td>retained</td>\n",
       "      <td>84</td>\n",
       "      <td>68</td>\n",
       "      <td>168.247020</td>\n",
       "      <td>1562</td>\n",
       "      <td>166</td>\n",
       "      <td>5</td>\n",
       "      <td>3950.202008</td>\n",
       "      <td>1219.555924</td>\n",
       "      <td>27</td>\n",
       "      <td>18</td>\n",
       "      <td>Android</td>\n",
       "    </tr>\n",
       "  </tbody>\n",
       "</table>\n",
       "</div>"
      ],
      "text/plain": [
       "   ID     label  sessions  drives  total_sessions  n_days_after_onboarding  \\\n",
       "0   0  retained       283     226      296.748273                     2276   \n",
       "1   1  retained       133     107      326.896596                     1225   \n",
       "2   2  retained       114      95      135.522926                     2651   \n",
       "3   3  retained        49      40       67.589221                       15   \n",
       "4   4  retained        84      68      168.247020                     1562   \n",
       "\n",
       "   total_navigations_fav1  total_navigations_fav2  driven_km_drives  \\\n",
       "0                     208                       0       2628.845068   \n",
       "1                      19                      64      13715.920550   \n",
       "2                       0                       0       3059.148818   \n",
       "3                     322                       7        913.591123   \n",
       "4                     166                       5       3950.202008   \n",
       "\n",
       "   duration_minutes_drives  activity_days  driving_days   device  \n",
       "0              1985.775061             28            19  Android  \n",
       "1              3160.472914             13            11   iPhone  \n",
       "2              1610.735904             14             8  Android  \n",
       "3               587.196542              7             3   iPhone  \n",
       "4              1219.555924             27            18  Android  "
      ]
     },
     "execution_count": 2,
     "metadata": {},
     "output_type": "execute_result"
    }
   ],
   "source": [
    "data = pd.read_csv('EDA_dataset.csv')\n",
    "data.head()"
   ]
  },
  {
   "cell_type": "code",
   "execution_count": 3,
   "id": "3c335ec6",
   "metadata": {},
   "outputs": [
    {
     "data": {
      "text/plain": [
       "194987"
      ]
     },
     "execution_count": 3,
     "metadata": {},
     "output_type": "execute_result"
    }
   ],
   "source": [
    "data.size"
   ]
  },
  {
   "cell_type": "code",
   "execution_count": 4,
   "id": "eb4ff976",
   "metadata": {},
   "outputs": [
    {
     "data": {
      "text/plain": [
       "(14999, 13)"
      ]
     },
     "execution_count": 4,
     "metadata": {},
     "output_type": "execute_result"
    }
   ],
   "source": [
    "data.shape"
   ]
  },
  {
   "cell_type": "code",
   "execution_count": 5,
   "id": "dcddac72",
   "metadata": {},
   "outputs": [
    {
     "name": "stdout",
     "output_type": "stream",
     "text": [
      "<class 'pandas.core.frame.DataFrame'>\n",
      "RangeIndex: 14999 entries, 0 to 14998\n",
      "Data columns (total 13 columns):\n",
      " #   Column                   Non-Null Count  Dtype  \n",
      "---  ------                   --------------  -----  \n",
      " 0   ID                       14999 non-null  int64  \n",
      " 1   label                    14299 non-null  object \n",
      " 2   sessions                 14999 non-null  int64  \n",
      " 3   drives                   14999 non-null  int64  \n",
      " 4   total_sessions           14999 non-null  float64\n",
      " 5   n_days_after_onboarding  14999 non-null  int64  \n",
      " 6   total_navigations_fav1   14999 non-null  int64  \n",
      " 7   total_navigations_fav2   14999 non-null  int64  \n",
      " 8   driven_km_drives         14999 non-null  float64\n",
      " 9   duration_minutes_drives  14999 non-null  float64\n",
      " 10  activity_days            14999 non-null  int64  \n",
      " 11  driving_days             14999 non-null  int64  \n",
      " 12  device                   14999 non-null  object \n",
      "dtypes: float64(3), int64(8), object(2)\n",
      "memory usage: 1.5+ MB\n"
     ]
    }
   ],
   "source": [
    "data.info()"
   ]
  },
  {
   "cell_type": "code",
   "execution_count": 6,
   "id": "ade68e07",
   "metadata": {},
   "outputs": [
    {
     "data": {
      "text/html": [
       "<div>\n",
       "<style scoped>\n",
       "    .dataframe tbody tr th:only-of-type {\n",
       "        vertical-align: middle;\n",
       "    }\n",
       "\n",
       "    .dataframe tbody tr th {\n",
       "        vertical-align: top;\n",
       "    }\n",
       "\n",
       "    .dataframe thead th {\n",
       "        text-align: right;\n",
       "    }\n",
       "</style>\n",
       "<table border=\"1\" class=\"dataframe\">\n",
       "  <thead>\n",
       "    <tr style=\"text-align: right;\">\n",
       "      <th></th>\n",
       "      <th>count</th>\n",
       "      <th>mean</th>\n",
       "      <th>std</th>\n",
       "      <th>min</th>\n",
       "      <th>25%</th>\n",
       "      <th>50%</th>\n",
       "      <th>75%</th>\n",
       "      <th>max</th>\n",
       "    </tr>\n",
       "  </thead>\n",
       "  <tbody>\n",
       "    <tr>\n",
       "      <th>ID</th>\n",
       "      <td>14999.0</td>\n",
       "      <td>7499.000000</td>\n",
       "      <td>4329.982679</td>\n",
       "      <td>0.000000</td>\n",
       "      <td>3749.500000</td>\n",
       "      <td>7499.000000</td>\n",
       "      <td>11248.500000</td>\n",
       "      <td>14998.000000</td>\n",
       "    </tr>\n",
       "    <tr>\n",
       "      <th>sessions</th>\n",
       "      <td>14999.0</td>\n",
       "      <td>80.633776</td>\n",
       "      <td>80.699065</td>\n",
       "      <td>0.000000</td>\n",
       "      <td>23.000000</td>\n",
       "      <td>56.000000</td>\n",
       "      <td>112.000000</td>\n",
       "      <td>743.000000</td>\n",
       "    </tr>\n",
       "    <tr>\n",
       "      <th>drives</th>\n",
       "      <td>14999.0</td>\n",
       "      <td>67.281152</td>\n",
       "      <td>65.913872</td>\n",
       "      <td>0.000000</td>\n",
       "      <td>20.000000</td>\n",
       "      <td>48.000000</td>\n",
       "      <td>93.000000</td>\n",
       "      <td>596.000000</td>\n",
       "    </tr>\n",
       "    <tr>\n",
       "      <th>total_sessions</th>\n",
       "      <td>14999.0</td>\n",
       "      <td>189.964447</td>\n",
       "      <td>136.405128</td>\n",
       "      <td>0.220211</td>\n",
       "      <td>90.661156</td>\n",
       "      <td>159.568115</td>\n",
       "      <td>254.192341</td>\n",
       "      <td>1216.154633</td>\n",
       "    </tr>\n",
       "    <tr>\n",
       "      <th>n_days_after_onboarding</th>\n",
       "      <td>14999.0</td>\n",
       "      <td>1749.837789</td>\n",
       "      <td>1008.513876</td>\n",
       "      <td>4.000000</td>\n",
       "      <td>878.000000</td>\n",
       "      <td>1741.000000</td>\n",
       "      <td>2623.500000</td>\n",
       "      <td>3500.000000</td>\n",
       "    </tr>\n",
       "    <tr>\n",
       "      <th>total_navigations_fav1</th>\n",
       "      <td>14999.0</td>\n",
       "      <td>121.605974</td>\n",
       "      <td>148.121544</td>\n",
       "      <td>0.000000</td>\n",
       "      <td>9.000000</td>\n",
       "      <td>71.000000</td>\n",
       "      <td>178.000000</td>\n",
       "      <td>1236.000000</td>\n",
       "    </tr>\n",
       "    <tr>\n",
       "      <th>total_navigations_fav2</th>\n",
       "      <td>14999.0</td>\n",
       "      <td>29.672512</td>\n",
       "      <td>45.394651</td>\n",
       "      <td>0.000000</td>\n",
       "      <td>0.000000</td>\n",
       "      <td>9.000000</td>\n",
       "      <td>43.000000</td>\n",
       "      <td>415.000000</td>\n",
       "    </tr>\n",
       "    <tr>\n",
       "      <th>driven_km_drives</th>\n",
       "      <td>14999.0</td>\n",
       "      <td>4039.340921</td>\n",
       "      <td>2502.149334</td>\n",
       "      <td>60.441250</td>\n",
       "      <td>2212.600607</td>\n",
       "      <td>3493.858085</td>\n",
       "      <td>5289.861262</td>\n",
       "      <td>21183.401890</td>\n",
       "    </tr>\n",
       "    <tr>\n",
       "      <th>duration_minutes_drives</th>\n",
       "      <td>14999.0</td>\n",
       "      <td>1860.976012</td>\n",
       "      <td>1446.702288</td>\n",
       "      <td>18.282082</td>\n",
       "      <td>835.996260</td>\n",
       "      <td>1478.249859</td>\n",
       "      <td>2464.362632</td>\n",
       "      <td>15851.727160</td>\n",
       "    </tr>\n",
       "    <tr>\n",
       "      <th>activity_days</th>\n",
       "      <td>14999.0</td>\n",
       "      <td>15.537102</td>\n",
       "      <td>9.004655</td>\n",
       "      <td>0.000000</td>\n",
       "      <td>8.000000</td>\n",
       "      <td>16.000000</td>\n",
       "      <td>23.000000</td>\n",
       "      <td>31.000000</td>\n",
       "    </tr>\n",
       "    <tr>\n",
       "      <th>driving_days</th>\n",
       "      <td>14999.0</td>\n",
       "      <td>12.179879</td>\n",
       "      <td>7.824036</td>\n",
       "      <td>0.000000</td>\n",
       "      <td>5.000000</td>\n",
       "      <td>12.000000</td>\n",
       "      <td>19.000000</td>\n",
       "      <td>30.000000</td>\n",
       "    </tr>\n",
       "  </tbody>\n",
       "</table>\n",
       "</div>"
      ],
      "text/plain": [
       "                           count         mean          std        min  \\\n",
       "ID                       14999.0  7499.000000  4329.982679   0.000000   \n",
       "sessions                 14999.0    80.633776    80.699065   0.000000   \n",
       "drives                   14999.0    67.281152    65.913872   0.000000   \n",
       "total_sessions           14999.0   189.964447   136.405128   0.220211   \n",
       "n_days_after_onboarding  14999.0  1749.837789  1008.513876   4.000000   \n",
       "total_navigations_fav1   14999.0   121.605974   148.121544   0.000000   \n",
       "total_navigations_fav2   14999.0    29.672512    45.394651   0.000000   \n",
       "driven_km_drives         14999.0  4039.340921  2502.149334  60.441250   \n",
       "duration_minutes_drives  14999.0  1860.976012  1446.702288  18.282082   \n",
       "activity_days            14999.0    15.537102     9.004655   0.000000   \n",
       "driving_days             14999.0    12.179879     7.824036   0.000000   \n",
       "\n",
       "                                 25%          50%           75%           max  \n",
       "ID                       3749.500000  7499.000000  11248.500000  14998.000000  \n",
       "sessions                   23.000000    56.000000    112.000000    743.000000  \n",
       "drives                     20.000000    48.000000     93.000000    596.000000  \n",
       "total_sessions             90.661156   159.568115    254.192341   1216.154633  \n",
       "n_days_after_onboarding   878.000000  1741.000000   2623.500000   3500.000000  \n",
       "total_navigations_fav1      9.000000    71.000000    178.000000   1236.000000  \n",
       "total_navigations_fav2      0.000000     9.000000     43.000000    415.000000  \n",
       "driven_km_drives         2212.600607  3493.858085   5289.861262  21183.401890  \n",
       "duration_minutes_drives   835.996260  1478.249859   2464.362632  15851.727160  \n",
       "activity_days               8.000000    16.000000     23.000000     31.000000  \n",
       "driving_days                5.000000    12.000000     19.000000     30.000000  "
      ]
     },
     "execution_count": 6,
     "metadata": {},
     "output_type": "execute_result"
    }
   ],
   "source": [
    "data.describe().T"
   ]
  },
  {
   "cell_type": "code",
   "execution_count": 7,
   "id": "201279a2",
   "metadata": {},
   "outputs": [
    {
     "data": {
      "text/plain": [
       "ID                           0\n",
       "label                      700\n",
       "sessions                     0\n",
       "drives                       0\n",
       "total_sessions               0\n",
       "n_days_after_onboarding      0\n",
       "total_navigations_fav1       0\n",
       "total_navigations_fav2       0\n",
       "driven_km_drives             0\n",
       "duration_minutes_drives      0\n",
       "activity_days                0\n",
       "driving_days                 0\n",
       "device                       0\n",
       "dtype: int64"
      ]
     },
     "execution_count": 7,
     "metadata": {},
     "output_type": "execute_result"
    }
   ],
   "source": [
    "data.isna().sum()"
   ]
  },
  {
   "cell_type": "code",
   "execution_count": 3,
   "id": "a650a176",
   "metadata": {},
   "outputs": [
    {
     "data": {
      "text/plain": [
       "(14299, 13)"
      ]
     },
     "execution_count": 3,
     "metadata": {},
     "output_type": "execute_result"
    }
   ],
   "source": [
    "data = data.dropna()\n",
    "data.shape"
   ]
  },
  {
   "cell_type": "code",
   "execution_count": 9,
   "id": "8b1c7382",
   "metadata": {},
   "outputs": [
    {
     "data": {
      "text/html": [
       "<div>\n",
       "<style scoped>\n",
       "    .dataframe tbody tr th:only-of-type {\n",
       "        vertical-align: middle;\n",
       "    }\n",
       "\n",
       "    .dataframe tbody tr th {\n",
       "        vertical-align: top;\n",
       "    }\n",
       "\n",
       "    .dataframe thead th {\n",
       "        text-align: right;\n",
       "    }\n",
       "</style>\n",
       "<table border=\"1\" class=\"dataframe\">\n",
       "  <thead>\n",
       "    <tr style=\"text-align: right;\">\n",
       "      <th></th>\n",
       "      <th>ID</th>\n",
       "      <th>label</th>\n",
       "      <th>sessions</th>\n",
       "      <th>drives</th>\n",
       "      <th>total_sessions</th>\n",
       "      <th>n_days_after_onboarding</th>\n",
       "      <th>total_navigations_fav1</th>\n",
       "      <th>total_navigations_fav2</th>\n",
       "      <th>driven_km_drives</th>\n",
       "      <th>duration_minutes_drives</th>\n",
       "      <th>activity_days</th>\n",
       "      <th>driving_days</th>\n",
       "      <th>device</th>\n",
       "    </tr>\n",
       "  </thead>\n",
       "  <tbody>\n",
       "  </tbody>\n",
       "</table>\n",
       "</div>"
      ],
      "text/plain": [
       "Empty DataFrame\n",
       "Columns: [ID, label, sessions, drives, total_sessions, n_days_after_onboarding, total_navigations_fav1, total_navigations_fav2, driven_km_drives, duration_minutes_drives, activity_days, driving_days, device]\n",
       "Index: []"
      ]
     },
     "execution_count": 9,
     "metadata": {},
     "output_type": "execute_result"
    }
   ],
   "source": [
    "data[data.duplicated()]"
   ]
  },
  {
   "cell_type": "code",
   "execution_count": 10,
   "id": "8ea74cc1",
   "metadata": {},
   "outputs": [
    {
     "data": {
      "text/html": [
       "<div>\n",
       "<style scoped>\n",
       "    .dataframe tbody tr th:only-of-type {\n",
       "        vertical-align: middle;\n",
       "    }\n",
       "\n",
       "    .dataframe tbody tr th {\n",
       "        vertical-align: top;\n",
       "    }\n",
       "\n",
       "    .dataframe thead th {\n",
       "        text-align: right;\n",
       "    }\n",
       "</style>\n",
       "<table border=\"1\" class=\"dataframe\">\n",
       "  <thead>\n",
       "    <tr style=\"text-align: right;\">\n",
       "      <th></th>\n",
       "      <th>ID</th>\n",
       "      <th>label</th>\n",
       "      <th>sessions</th>\n",
       "      <th>drives</th>\n",
       "      <th>total_sessions</th>\n",
       "      <th>n_days_after_onboarding</th>\n",
       "      <th>total_navigations_fav1</th>\n",
       "      <th>total_navigations_fav2</th>\n",
       "      <th>driven_km_drives</th>\n",
       "      <th>duration_minutes_drives</th>\n",
       "      <th>activity_days</th>\n",
       "      <th>driving_days</th>\n",
       "      <th>device</th>\n",
       "    </tr>\n",
       "  </thead>\n",
       "  <tbody>\n",
       "  </tbody>\n",
       "</table>\n",
       "</div>"
      ],
      "text/plain": [
       "Empty DataFrame\n",
       "Columns: [ID, label, sessions, drives, total_sessions, n_days_after_onboarding, total_navigations_fav1, total_navigations_fav2, driven_km_drives, duration_minutes_drives, activity_days, driving_days, device]\n",
       "Index: []"
      ]
     },
     "execution_count": 10,
     "metadata": {},
     "output_type": "execute_result"
    }
   ],
   "source": [
    "data[data.duplicated(subset='ID')]"
   ]
  },
  {
   "cell_type": "code",
   "execution_count": 11,
   "id": "e0496b8a",
   "metadata": {},
   "outputs": [
    {
     "data": {
      "text/html": [
       "<div>\n",
       "<style scoped>\n",
       "    .dataframe tbody tr th:only-of-type {\n",
       "        vertical-align: middle;\n",
       "    }\n",
       "\n",
       "    .dataframe tbody tr th {\n",
       "        vertical-align: top;\n",
       "    }\n",
       "\n",
       "    .dataframe thead th {\n",
       "        text-align: right;\n",
       "    }\n",
       "</style>\n",
       "<table border=\"1\" class=\"dataframe\">\n",
       "  <thead>\n",
       "    <tr style=\"text-align: right;\">\n",
       "      <th></th>\n",
       "      <th>count</th>\n",
       "      <th>mean</th>\n",
       "      <th>std</th>\n",
       "      <th>min</th>\n",
       "      <th>25%</th>\n",
       "      <th>50%</th>\n",
       "      <th>75%</th>\n",
       "      <th>max</th>\n",
       "    </tr>\n",
       "  </thead>\n",
       "  <tbody>\n",
       "    <tr>\n",
       "      <th>ID</th>\n",
       "      <td>14299.0</td>\n",
       "      <td>7503.573117</td>\n",
       "      <td>4331.207621</td>\n",
       "      <td>0.000000</td>\n",
       "      <td>3749.500000</td>\n",
       "      <td>7504.000000</td>\n",
       "      <td>11257.500000</td>\n",
       "      <td>14998.000000</td>\n",
       "    </tr>\n",
       "    <tr>\n",
       "      <th>sessions</th>\n",
       "      <td>14299.0</td>\n",
       "      <td>80.623820</td>\n",
       "      <td>80.736502</td>\n",
       "      <td>0.000000</td>\n",
       "      <td>23.000000</td>\n",
       "      <td>56.000000</td>\n",
       "      <td>111.000000</td>\n",
       "      <td>743.000000</td>\n",
       "    </tr>\n",
       "    <tr>\n",
       "      <th>drives</th>\n",
       "      <td>14299.0</td>\n",
       "      <td>67.255822</td>\n",
       "      <td>65.947295</td>\n",
       "      <td>0.000000</td>\n",
       "      <td>20.000000</td>\n",
       "      <td>48.000000</td>\n",
       "      <td>93.000000</td>\n",
       "      <td>596.000000</td>\n",
       "    </tr>\n",
       "    <tr>\n",
       "      <th>total_sessions</th>\n",
       "      <td>14299.0</td>\n",
       "      <td>189.547409</td>\n",
       "      <td>136.189764</td>\n",
       "      <td>0.220211</td>\n",
       "      <td>90.457733</td>\n",
       "      <td>158.718571</td>\n",
       "      <td>253.540450</td>\n",
       "      <td>1216.154633</td>\n",
       "    </tr>\n",
       "    <tr>\n",
       "      <th>n_days_after_onboarding</th>\n",
       "      <td>14299.0</td>\n",
       "      <td>1751.822505</td>\n",
       "      <td>1008.663834</td>\n",
       "      <td>4.000000</td>\n",
       "      <td>878.500000</td>\n",
       "      <td>1749.000000</td>\n",
       "      <td>2627.500000</td>\n",
       "      <td>3500.000000</td>\n",
       "    </tr>\n",
       "    <tr>\n",
       "      <th>total_navigations_fav1</th>\n",
       "      <td>14299.0</td>\n",
       "      <td>121.747395</td>\n",
       "      <td>147.713428</td>\n",
       "      <td>0.000000</td>\n",
       "      <td>10.000000</td>\n",
       "      <td>71.000000</td>\n",
       "      <td>178.000000</td>\n",
       "      <td>1236.000000</td>\n",
       "    </tr>\n",
       "    <tr>\n",
       "      <th>total_navigations_fav2</th>\n",
       "      <td>14299.0</td>\n",
       "      <td>29.638296</td>\n",
       "      <td>45.350890</td>\n",
       "      <td>0.000000</td>\n",
       "      <td>0.000000</td>\n",
       "      <td>9.000000</td>\n",
       "      <td>43.000000</td>\n",
       "      <td>415.000000</td>\n",
       "    </tr>\n",
       "    <tr>\n",
       "      <th>driven_km_drives</th>\n",
       "      <td>14299.0</td>\n",
       "      <td>4044.401535</td>\n",
       "      <td>2504.977970</td>\n",
       "      <td>60.441250</td>\n",
       "      <td>2217.319909</td>\n",
       "      <td>3496.545617</td>\n",
       "      <td>5299.972162</td>\n",
       "      <td>21183.401890</td>\n",
       "    </tr>\n",
       "    <tr>\n",
       "      <th>duration_minutes_drives</th>\n",
       "      <td>14299.0</td>\n",
       "      <td>1864.199794</td>\n",
       "      <td>1448.005047</td>\n",
       "      <td>18.282082</td>\n",
       "      <td>840.181344</td>\n",
       "      <td>1479.394387</td>\n",
       "      <td>2466.928876</td>\n",
       "      <td>15851.727160</td>\n",
       "    </tr>\n",
       "    <tr>\n",
       "      <th>activity_days</th>\n",
       "      <td>14299.0</td>\n",
       "      <td>15.544653</td>\n",
       "      <td>9.016088</td>\n",
       "      <td>0.000000</td>\n",
       "      <td>8.000000</td>\n",
       "      <td>16.000000</td>\n",
       "      <td>23.000000</td>\n",
       "      <td>31.000000</td>\n",
       "    </tr>\n",
       "    <tr>\n",
       "      <th>driving_days</th>\n",
       "      <td>14299.0</td>\n",
       "      <td>12.182530</td>\n",
       "      <td>7.833835</td>\n",
       "      <td>0.000000</td>\n",
       "      <td>5.000000</td>\n",
       "      <td>12.000000</td>\n",
       "      <td>19.000000</td>\n",
       "      <td>30.000000</td>\n",
       "    </tr>\n",
       "  </tbody>\n",
       "</table>\n",
       "</div>"
      ],
      "text/plain": [
       "                           count         mean          std        min  \\\n",
       "ID                       14299.0  7503.573117  4331.207621   0.000000   \n",
       "sessions                 14299.0    80.623820    80.736502   0.000000   \n",
       "drives                   14299.0    67.255822    65.947295   0.000000   \n",
       "total_sessions           14299.0   189.547409   136.189764   0.220211   \n",
       "n_days_after_onboarding  14299.0  1751.822505  1008.663834   4.000000   \n",
       "total_navigations_fav1   14299.0   121.747395   147.713428   0.000000   \n",
       "total_navigations_fav2   14299.0    29.638296    45.350890   0.000000   \n",
       "driven_km_drives         14299.0  4044.401535  2504.977970  60.441250   \n",
       "duration_minutes_drives  14299.0  1864.199794  1448.005047  18.282082   \n",
       "activity_days            14299.0    15.544653     9.016088   0.000000   \n",
       "driving_days             14299.0    12.182530     7.833835   0.000000   \n",
       "\n",
       "                                 25%          50%           75%           max  \n",
       "ID                       3749.500000  7504.000000  11257.500000  14998.000000  \n",
       "sessions                   23.000000    56.000000    111.000000    743.000000  \n",
       "drives                     20.000000    48.000000     93.000000    596.000000  \n",
       "total_sessions             90.457733   158.718571    253.540450   1216.154633  \n",
       "n_days_after_onboarding   878.500000  1749.000000   2627.500000   3500.000000  \n",
       "total_navigations_fav1     10.000000    71.000000    178.000000   1236.000000  \n",
       "total_navigations_fav2      0.000000     9.000000     43.000000    415.000000  \n",
       "driven_km_drives         2217.319909  3496.545617   5299.972162  21183.401890  \n",
       "duration_minutes_drives   840.181344  1479.394387   2466.928876  15851.727160  \n",
       "activity_days               8.000000    16.000000     23.000000     31.000000  \n",
       "driving_days                5.000000    12.000000     19.000000     30.000000  "
      ]
     },
     "execution_count": 11,
     "metadata": {},
     "output_type": "execute_result"
    }
   ],
   "source": [
    "data.describe().T"
   ]
  },
  {
   "cell_type": "markdown",
   "id": "211f419e",
   "metadata": {},
   "source": [
    "## Visualization"
   ]
  },
  {
   "cell_type": "code",
   "execution_count": 4,
   "id": "4c849f65",
   "metadata": {},
   "outputs": [
    {
     "data": {
      "image/png": "[encoded data removed]",
      "text/plain": [
       "<Figure size 864x504 with 2 Axes>"
      ]
     },
     "metadata": {
      "needs_background": "light"
     },
     "output_type": "display_data"
    }
   ],
   "source": [
    "plt.figure(figsize=(12,7))\n",
    "sns.heatmap(data = data.corr(method='pearson'), vmin=-1, vmax=1, annot=True, cmap='coolwarm')\n",
    "plt.title('Heatmap of dataset')\n",
    "plt.show()"
   ]
  },
  {
   "cell_type": "code",
   "execution_count": 13,
   "id": "4f0c22f6",
   "metadata": {},
   "outputs": [
    {
     "data": {
      "image/png": "[encoded data removed]",
      "text/plain": [
       "<Figure size 360x72 with 1 Axes>"
      ]
     },
     "metadata": {
      "needs_background": "light"
     },
     "output_type": "display_data"
    }
   ],
   "source": [
    "plt.figure(figsize=(5,1))\n",
    "sns.boxplot(x=data['sessions'], fliersize=1)\n",
    "plt.title('sessions box plot');"
   ]
  },
  {
   "cell_type": "code",
   "execution_count": 14,
   "id": "ea3a2387",
   "metadata": {},
   "outputs": [
    {
     "data": {
      "image/png": "[encoded data removed]",
      "text/plain": [
       "<Figure size 576x432 with 1 Axes>"
      ]
     },
     "metadata": {
      "needs_background": "light"
     },
     "output_type": "display_data"
    }
   ],
   "source": [
    "plt.figure(figsize=(8,6))\n",
    "sns.histplot(x=data['sessions'])\n",
    "median = data['sessions'].median()\n",
    "plt.axvline(median, color='red', linestyle='--')\n",
    "plt.text(75,1200, 'median=56.0', color='red')\n",
    "plt.title('sessions box plot');"
   ]
  },
  {
   "cell_type": "markdown",
   "id": "372edbca",
   "metadata": {},
   "source": [
    "La variable `sessions` est une distribution right-skewed, la moitié des observations ayant 56 sessions ou moins. Cependant, comme l'indique le boxplot, certains utilisateurs ont plus de 700 sessions."
   ]
  },
  {
   "cell_type": "code",
   "execution_count": 15,
   "id": "0191e9bf",
   "metadata": {},
   "outputs": [
    {
     "data": {
      "image/png": "[encoded data removed]",
      "text/plain": [
       "<Figure size 360x72 with 1 Axes>"
      ]
     },
     "metadata": {
      "needs_background": "light"
     },
     "output_type": "display_data"
    }
   ],
   "source": [
    "plt.figure(figsize=(5,1))\n",
    "sns.boxplot(x=data['drives'], fliersize=1)\n",
    "plt.title('drives box plot');"
   ]
  },
  {
   "cell_type": "code",
   "execution_count": 16,
   "id": "0d6aae90",
   "metadata": {},
   "outputs": [],
   "source": [
    "def histogrammer(column_str, median_text=True, **kwargs): \n",
    "                                                           \n",
    "    median=round(data[column_str].median(), 1)\n",
    "    plt.figure(figsize=(8,6))\n",
    "    ax = sns.histplot(x=data[column_str], **kwargs)            \n",
    "    plt.axvline(median, color='red', linestyle='--')         \n",
    "    if median_text==True:                                    \n",
    "        ax.text(0.25, 0.85, f'median={median}', color='red',\n",
    "            ha='left', va='top', transform=ax.transAxes)\n",
    "    else:\n",
    "        print('Median:', median)\n",
    "    plt.title(f'{column_str} histogram');"
   ]
  },
  {
   "cell_type": "code",
   "execution_count": 17,
   "id": "5385079c",
   "metadata": {},
   "outputs": [
    {
     "data": {
      "image/png": "[encoded data removed]",
      "text/plain": [
       "<Figure size 576x432 with 1 Axes>"
      ]
     },
     "metadata": {
      "needs_background": "light"
     },
     "output_type": "display_data"
    }
   ],
   "source": [
    "histogrammer('drives')"
   ]
  },
  {
   "cell_type": "markdown",
   "id": "3dc9c37b",
   "metadata": {},
   "source": [
    "Les informations sur les trajets suivent une distribution similaire à celle de la variable \"sessions\", avec une courbe à droite, approximativement log-normale, et une médiane de 48. Toutefois, certains conducteurs ont effectué plus de 400 trajets au cours du dernier mois."
   ]
  },
  {
   "cell_type": "code",
   "execution_count": 18,
   "id": "37eca768",
   "metadata": {},
   "outputs": [
    {
     "data": {
      "image/png": "[encoded data removed]",
      "text/plain": [
       "<Figure size 360x72 with 1 Axes>"
      ]
     },
     "metadata": {
      "needs_background": "light"
     },
     "output_type": "display_data"
    }
   ],
   "source": [
    "plt.figure(figsize=(5,1))\n",
    "sns.boxplot(x=data['total_sessions'], fliersize=1)\n",
    "plt.title('total_sessions box plot');"
   ]
  },
  {
   "cell_type": "code",
   "execution_count": 19,
   "id": "76d3cb54",
   "metadata": {},
   "outputs": [
    {
     "data": {
      "image/png": "[encoded data removed]",
      "text/plain": [
       "<Figure size 576x432 with 1 Axes>"
      ]
     },
     "metadata": {
      "needs_background": "light"
     },
     "output_type": "display_data"
    }
   ],
   "source": [
    "histogrammer('total_sessions')"
   ]
  },
  {
   "cell_type": "markdown",
   "id": "112bad3e",
   "metadata": {},
   "source": [
    "Le \"total_sessions\" est une distribution right-skewed. La médiane du nombre total de sessions est de 158,7. Cette information est intéressante car, si le nombre médian de sessions au cours du dernier mois était de 48 et que le nombre médian total de sessions était de ~159, il semble qu'une grande partie du nombre total de lecteurs d'un utilisateur ait eu lieu au cours du dernier mois."
   ]
  },
  {
   "cell_type": "code",
   "execution_count": 20,
   "id": "6636fcc4",
   "metadata": {},
   "outputs": [
    {
     "data": {
      "image/png": "[encoded data removed]",
      "text/plain": [
       "<Figure size 360x72 with 1 Axes>"
      ]
     },
     "metadata": {
      "needs_background": "light"
     },
     "output_type": "display_data"
    }
   ],
   "source": [
    "plt.figure(figsize=(5,1))\n",
    "sns.boxplot(x=data['n_days_after_onboarding'], fliersize=1)\n",
    "plt.title('n_days_after_onboarding box plot');"
   ]
  },
  {
   "cell_type": "code",
   "execution_count": 21,
   "id": "52181b7e",
   "metadata": {},
   "outputs": [
    {
     "name": "stdout",
     "output_type": "stream",
     "text": [
      "Median: 1749.0\n"
     ]
    },
    {
     "data": {
      "image/png": "[encoded data removed]",
      "text/plain": [
       "<Figure size 576x432 with 1 Axes>"
      ]
     },
     "metadata": {
      "needs_background": "light"
     },
     "output_type": "display_data"
    }
   ],
   "source": [
    "histogrammer('n_days_after_onboarding', median_text=False)"
   ]
  },
  {
   "cell_type": "markdown",
   "id": "80abdaf9",
   "metadata": {},
   "source": [
    "La durée totale d'utilisation (nombre de jours depuis l'intégration) est une distribution uniforme avec des valeurs allant de presque zéro à ~ 3 500 (~ 9,5 ans)."
   ]
  },
  {
   "cell_type": "code",
   "execution_count": 22,
   "id": "b767b9e6",
   "metadata": {},
   "outputs": [
    {
     "data": {
      "image/png": "[encoded data removed]",
      "text/plain": [
       "<Figure size 360x72 with 1 Axes>"
      ]
     },
     "metadata": {
      "needs_background": "light"
     },
     "output_type": "display_data"
    }
   ],
   "source": [
    "plt.figure(figsize=(5,1))\n",
    "sns.boxplot(x=data['driven_km_drives'], fliersize=1)\n",
    "plt.title('driven_km_drives box plot');"
   ]
  },
  {
   "cell_type": "code",
   "execution_count": 23,
   "id": "7e337a33",
   "metadata": {},
   "outputs": [
    {
     "data": {
      "image/png": "[encoded data removed]",
      "text/plain": [
       "<Figure size 576x432 with 1 Axes>"
      ]
     },
     "metadata": {
      "needs_background": "light"
     },
     "output_type": "display_data"
    }
   ],
   "source": [
    "histogrammer('driven_km_drives')"
   ]
  },
  {
   "cell_type": "markdown",
   "id": "baa9559f",
   "metadata": {},
   "source": [
    "Le nombre de kilomètres parcourus au cours du dernier mois par chaque utilisateur présente une distribution right-skewed, la moitié des utilisateurs parcourant moins de 3 495 kilomètres."
   ]
  },
  {
   "cell_type": "code",
   "execution_count": 24,
   "id": "144e5a9b",
   "metadata": {},
   "outputs": [
    {
     "data": {
      "image/png": "[encoded data removed]",
      "text/plain": [
       "<Figure size 360x72 with 1 Axes>"
      ]
     },
     "metadata": {
      "needs_background": "light"
     },
     "output_type": "display_data"
    }
   ],
   "source": [
    "plt.figure(figsize=(5,1))\n",
    "sns.boxplot(x=data['duration_minutes_drives'], fliersize=1)\n",
    "plt.title('duration_minutes_drives box plot');"
   ]
  },
  {
   "cell_type": "code",
   "execution_count": 25,
   "id": "bfa711ec",
   "metadata": {},
   "outputs": [
    {
     "data": {
      "image/png": "[encoded data removed]",
      "text/plain": [
       "<Figure size 576x432 with 1 Axes>"
      ]
     },
     "metadata": {
      "needs_background": "light"
     },
     "output_type": "display_data"
    }
   ],
   "source": [
    "histogrammer('duration_minutes_drives')"
   ]
  },
  {
   "cell_type": "markdown",
   "id": "053267c4",
   "metadata": {},
   "source": [
    "La variable duration_minutes_drives a une queue droite très asymétrique. La moitié des utilisateurs ont conduit moins de ~ 1 478 minutes (~ 25 heures), mais certains utilisateurs ont conduit plus de 250 heures au cours du mois."
   ]
  },
  {
   "cell_type": "code",
   "execution_count": 26,
   "id": "44bbc93d",
   "metadata": {},
   "outputs": [
    {
     "data": {
      "image/png": "[encoded data removed]",
      "text/plain": [
       "<Figure size 360x72 with 1 Axes>"
      ]
     },
     "metadata": {
      "needs_background": "light"
     },
     "output_type": "display_data"
    }
   ],
   "source": [
    "plt.figure(figsize=(5,1))\n",
    "sns.boxplot(x=data['activity_days'], fliersize=1)\n",
    "plt.title('activity_days box plot');"
   ]
  },
  {
   "cell_type": "code",
   "execution_count": 27,
   "id": "e6a072b4",
   "metadata": {},
   "outputs": [
    {
     "name": "stdout",
     "output_type": "stream",
     "text": [
      "Median: 16.0\n"
     ]
    },
    {
     "data": {
      "image/png": "[encoded data removed]",
      "text/plain": [
       "<Figure size 576x432 with 1 Axes>"
      ]
     },
     "metadata": {
      "needs_background": "light"
     },
     "output_type": "display_data"
    }
   ],
   "source": [
    "histogrammer('activity_days', median_text=False, discrete=True)"
   ]
  },
  {
   "cell_type": "markdown",
   "id": "b9846176",
   "metadata": {},
   "source": [
    "Au cours du dernier mois, les utilisateurs ont ouvert l'application en moyenne 16 fois. Le diagramme en boîte révèle une distribution centrée. L'histogramme montre une distribution presque uniforme d'environ 500 personnes ayant ouvert l'application pour chaque nombre de jours. Toutefois, environ 250 personnes n'ont pas ouvert l'application du tout et 250 personnes l'ont ouverte tous les jours du mois.\n",
    "\n",
    "Cette distribution est remarquable car elle ne reflète pas la distribution des sessions, qui serait étroitement corrélée avec le nombre de jours d'activité."
   ]
  },
  {
   "cell_type": "code",
   "execution_count": 28,
   "id": "0f10f010",
   "metadata": {},
   "outputs": [
    {
     "data": {
      "image/png": "[encoded data removed]",
      "text/plain": [
       "<Figure size 360x72 with 1 Axes>"
      ]
     },
     "metadata": {
      "needs_background": "light"
     },
     "output_type": "display_data"
    }
   ],
   "source": [
    "plt.figure(figsize=(5,1))\n",
    "sns.boxplot(x=data['driving_days'], fliersize=1)\n",
    "plt.title('driving_days box plot');"
   ]
  },
  {
   "cell_type": "code",
   "execution_count": 29,
   "id": "2dd797ed",
   "metadata": {},
   "outputs": [
    {
     "name": "stdout",
     "output_type": "stream",
     "text": [
      "Median: 12.0\n"
     ]
    },
    {
     "data": {
      "image/png": "[encoded data removed]",
      "text/plain": [
       "<Figure size 576x432 with 1 Axes>"
      ]
     },
     "metadata": {
      "needs_background": "light"
     },
     "output_type": "display_data"
    }
   ],
   "source": [
    "histogrammer('driving_days', median_text=False, discrete=True)"
   ]
  },
  {
   "cell_type": "markdown",
   "id": "0d0ffa0b",
   "metadata": {},
   "source": [
    "Le nombre de jours où les utilisateurs ont conduit chaque mois est presque uniforme, et il est largement corrélé avec le nombre de jours où ils ont ouvert l'application ce mois-là, à l'exception de la distribution des jours de conduite qui s'interrompt à droite.\n",
    "\n",
    "Cependant, il y a presque deux fois plus d'utilisateurs (~1 000 contre ~550) qui n'ont pas conduit du tout pendant le mois. Cela peut sembler contre-intuitif si l'on tient compte des informations fournies par la variable activity_days. Cette variable indique que ~500 utilisateurs ont ouvert l'application chaque jour, mais il n'y a que ~250 utilisateurs qui n'ont pas ouvert l'application du tout au cours du mois et ~250 utilisateurs qui ont ouvert l'application tous les jours."
   ]
  },
  {
   "cell_type": "code",
   "execution_count": 30,
   "id": "2a2fa6fe",
   "metadata": {},
   "outputs": [
    {
     "data": {
      "image/png": "[encoded data removed]",
      "text/plain": [
       "<Figure size 216x216 with 1 Axes>"
      ]
     },
     "metadata": {},
     "output_type": "display_data"
    }
   ],
   "source": [
    "# Pie chart\n",
    "fig = plt.figure(figsize=(3,3))\n",
    "data1=data['device'].value_counts()\n",
    "plt.pie(data1,\n",
    "        labels=[f'{data1.index[0]}: {data1.values[0]}',\n",
    "                f'{data1.index[1]}: {data1.values[1]}'],\n",
    "        autopct='%1.1f%%'\n",
    "        )\n",
    "plt.title('Users by device');"
   ]
  },
  {
   "cell_type": "markdown",
   "id": "7d3d4ff2",
   "metadata": {},
   "source": [
    "Il y a presque deux fois plus d'utilisateurs d'iPhone que d'utilisateurs d'Android représentés dans ces données"
   ]
  },
  {
   "cell_type": "code",
   "execution_count": 31,
   "id": "308e3340",
   "metadata": {},
   "outputs": [
    {
     "data": {
      "text/html": [
       "<div>\n",
       "<style scoped>\n",
       "    .dataframe tbody tr th:only-of-type {\n",
       "        vertical-align: middle;\n",
       "    }\n",
       "\n",
       "    .dataframe tbody tr th {\n",
       "        vertical-align: top;\n",
       "    }\n",
       "\n",
       "    .dataframe thead th {\n",
       "        text-align: right;\n",
       "    }\n",
       "</style>\n",
       "<table border=\"1\" class=\"dataframe\">\n",
       "  <thead>\n",
       "    <tr style=\"text-align: right;\">\n",
       "      <th></th>\n",
       "      <th>ID</th>\n",
       "      <th>label</th>\n",
       "      <th>sessions</th>\n",
       "      <th>drives</th>\n",
       "      <th>total_sessions</th>\n",
       "      <th>n_days_after_onboarding</th>\n",
       "      <th>total_navigations_fav1</th>\n",
       "      <th>total_navigations_fav2</th>\n",
       "      <th>driven_km_drives</th>\n",
       "      <th>duration_minutes_drives</th>\n",
       "      <th>activity_days</th>\n",
       "      <th>driving_days</th>\n",
       "      <th>device</th>\n",
       "    </tr>\n",
       "  </thead>\n",
       "  <tbody>\n",
       "    <tr>\n",
       "      <th>0</th>\n",
       "      <td>0</td>\n",
       "      <td>retained</td>\n",
       "      <td>283</td>\n",
       "      <td>226</td>\n",
       "      <td>296.748273</td>\n",
       "      <td>2276</td>\n",
       "      <td>208</td>\n",
       "      <td>0</td>\n",
       "      <td>2628.845068</td>\n",
       "      <td>1985.775061</td>\n",
       "      <td>28</td>\n",
       "      <td>19</td>\n",
       "      <td>Android</td>\n",
       "    </tr>\n",
       "    <tr>\n",
       "      <th>1</th>\n",
       "      <td>1</td>\n",
       "      <td>retained</td>\n",
       "      <td>133</td>\n",
       "      <td>107</td>\n",
       "      <td>326.896596</td>\n",
       "      <td>1225</td>\n",
       "      <td>19</td>\n",
       "      <td>64</td>\n",
       "      <td>13715.920550</td>\n",
       "      <td>3160.472914</td>\n",
       "      <td>13</td>\n",
       "      <td>11</td>\n",
       "      <td>iPhone</td>\n",
       "    </tr>\n",
       "    <tr>\n",
       "      <th>2</th>\n",
       "      <td>2</td>\n",
       "      <td>retained</td>\n",
       "      <td>114</td>\n",
       "      <td>95</td>\n",
       "      <td>135.522926</td>\n",
       "      <td>2651</td>\n",
       "      <td>0</td>\n",
       "      <td>0</td>\n",
       "      <td>3059.148818</td>\n",
       "      <td>1610.735904</td>\n",
       "      <td>14</td>\n",
       "      <td>8</td>\n",
       "      <td>Android</td>\n",
       "    </tr>\n",
       "    <tr>\n",
       "      <th>3</th>\n",
       "      <td>3</td>\n",
       "      <td>retained</td>\n",
       "      <td>49</td>\n",
       "      <td>40</td>\n",
       "      <td>67.589221</td>\n",
       "      <td>15</td>\n",
       "      <td>322</td>\n",
       "      <td>7</td>\n",
       "      <td>913.591123</td>\n",
       "      <td>587.196542</td>\n",
       "      <td>7</td>\n",
       "      <td>3</td>\n",
       "      <td>iPhone</td>\n",
       "    </tr>\n",
       "    <tr>\n",
       "      <th>4</th>\n",
       "      <td>4</td>\n",
       "      <td>retained</td>\n",
       "      <td>84</td>\n",
       "      <td>68</td>\n",
       "      <td>168.247020</td>\n",
       "      <td>1562</td>\n",
       "      <td>166</td>\n",
       "      <td>5</td>\n",
       "      <td>3950.202008</td>\n",
       "      <td>1219.555924</td>\n",
       "      <td>27</td>\n",
       "      <td>18</td>\n",
       "      <td>Android</td>\n",
       "    </tr>\n",
       "  </tbody>\n",
       "</table>\n",
       "</div>"
      ],
      "text/plain": [
       "   ID     label  sessions  drives  total_sessions  n_days_after_onboarding  \\\n",
       "0   0  retained       283     226      296.748273                     2276   \n",
       "1   1  retained       133     107      326.896596                     1225   \n",
       "2   2  retained       114      95      135.522926                     2651   \n",
       "3   3  retained        49      40       67.589221                       15   \n",
       "4   4  retained        84      68      168.247020                     1562   \n",
       "\n",
       "   total_navigations_fav1  total_navigations_fav2  driven_km_drives  \\\n",
       "0                     208                       0       2628.845068   \n",
       "1                      19                      64      13715.920550   \n",
       "2                       0                       0       3059.148818   \n",
       "3                     322                       7        913.591123   \n",
       "4                     166                       5       3950.202008   \n",
       "\n",
       "   duration_minutes_drives  activity_days  driving_days   device  \n",
       "0              1985.775061             28            19  Android  \n",
       "1              3160.472914             13            11   iPhone  \n",
       "2              1610.735904             14             8  Android  \n",
       "3               587.196542              7             3   iPhone  \n",
       "4              1219.555924             27            18  Android  "
      ]
     },
     "execution_count": 31,
     "metadata": {},
     "output_type": "execute_result"
    }
   ],
   "source": [
    "data.head()"
   ]
  },
  {
   "cell_type": "code",
   "execution_count": 32,
   "id": "730ebeab",
   "metadata": {},
   "outputs": [
    {
     "data": {
      "image/png": "[encoded data removed]",
      "text/plain": [
       "<Figure size 216x216 with 1 Axes>"
      ]
     },
     "metadata": {},
     "output_type": "display_data"
    }
   ],
   "source": [
    "fig = plt.figure(figsize=(3,3))\n",
    "data1=data['label'].value_counts()\n",
    "plt.pie(data1,\n",
    "        labels=[f'{data1.index[0]}: {data1.values[0]}',\n",
    "                f'{data1.index[1]}: {data1.values[1]}'],\n",
    "        autopct='%1.1f%%'\n",
    "        )\n",
    "plt.title('Count of retained vs. churned');"
   ]
  },
  {
   "cell_type": "markdown",
   "id": "b9a0f3aa",
   "metadata": {},
   "source": [
    "Moins de 18 % des utilisateurs ont abandonné."
   ]
  },
  {
   "cell_type": "code",
   "execution_count": 33,
   "id": "ca273589",
   "metadata": {},
   "outputs": [
    {
     "data": {
      "image/png": "[encoded data removed]",
      "text/plain": [
       "<Figure size 864x288 with 1 Axes>"
      ]
     },
     "metadata": {
      "needs_background": "light"
     },
     "output_type": "display_data"
    }
   ],
   "source": [
    "plt.figure(figsize=(12,4))\n",
    "label=['driving days', 'activity days']\n",
    "plt.hist([data['driving_days'], data['activity_days']],\n",
    "         bins=range(0,33),\n",
    "         label=label)\n",
    "plt.xlabel('days')\n",
    "plt.ylabel('count')\n",
    "plt.legend()\n",
    "plt.title('driving_days vs. activity_days');"
   ]
  },
  {
   "cell_type": "markdown",
   "id": "23b3ed03",
   "metadata": {},
   "source": [
    "Comme nous l'avons vu précédemment, cela peut sembler contre-intuitif. Après tout, pourquoi y a-t-il moins de personnes qui n'ont pas du tout utilisé l'application au cours du mois et plus de personnes qui n'ont pas du tout conduit au cours du mois ?\n",
    "\n",
    "D'un autre côté, cela pourrait simplement illustrer le fait que, bien que ces variables soient liées l'une à l'autre, elles ne sont pas identiques. Les gens ouvrent probablement plus souvent l'application qu'ils ne l'utilisent pour conduire - peut-être pour vérifier les temps de parcours ou les informations sur les itinéraires, pour mettre à jour les paramètres, ou même simplement par erreur.\n",
    "\n",
    "Néanmoins, il peut être utile de contacter l'équipe chargée des données chez Waze pour obtenir plus d'informations à ce sujet, notamment parce qu'il semble que le nombre de jours dans le mois ne soit pas le même d'une variable à l'autre.\n",
    "\n",
    "à confirmer le nombre maximum de jours pour chaque variable - driving_days et activity_days."
   ]
  },
  {
   "cell_type": "code",
   "execution_count": 34,
   "id": "2944c086",
   "metadata": {},
   "outputs": [
    {
     "data": {
      "image/png": "[encoded data removed]",
      "text/plain": [
       "<Figure size 432x288 with 1 Axes>"
      ]
     },
     "metadata": {
      "needs_background": "light"
     },
     "output_type": "display_data"
    }
   ],
   "source": [
    "sns.scatterplot(data=data, x='driving_days', y='activity_days')\n",
    "plt.title('driving_days vs. activity_days')\n",
    "plt.plot([0,31], [0,31], color='red', linestyle='--');"
   ]
  },
  {
   "cell_type": "markdown",
   "id": "5b6fdd41",
   "metadata": {},
   "source": [
    "nous remarquons qu'il existe une limite théorique. Si nous utilisons l'application pour conduire, alors, par définition, cela doit également compter comme une utilisation journalière. En d'autres termes, il ne peut y avoir plus de jours de conduite que de jours d'activité. Aucun des échantillons de ces données n'enfreint cette règle, ce qui est une bonne chose."
   ]
  },
  {
   "cell_type": "code",
   "execution_count": 35,
   "id": "84c3bba2",
   "metadata": {},
   "outputs": [
    {
     "data": {
      "image/png": "[encoded data removed]",
      "text/plain": [
       "<Figure size 360x288 with 1 Axes>"
      ]
     },
     "metadata": {
      "needs_background": "light"
     },
     "output_type": "display_data"
    }
   ],
   "source": [
    "plt.figure(figsize=(5,4))\n",
    "sns.histplot(data=data,\n",
    "             x='device',\n",
    "             hue='label',\n",
    "             multiple='dodge',\n",
    "             shrink=0.9\n",
    "             )\n",
    "plt.title('Retention by device histogram');"
   ]
  },
  {
   "cell_type": "markdown",
   "id": "fc80d080",
   "metadata": {},
   "source": [
    "La proportion d'utilisateurs quittant l'entreprise par rapport aux utilisateurs restant est la même pour tous les types d'appareils."
   ]
  },
  {
   "cell_type": "markdown",
   "id": "8affea57",
   "metadata": {},
   "source": [
    "#### Retention by kilometers driven per driving day"
   ]
  },
  {
   "cell_type": "code",
   "execution_count": 36,
   "id": "a52ad21f",
   "metadata": {},
   "outputs": [
    {
     "data": {
      "text/plain": [
       "count    1.429900e+04\n",
       "mean              inf\n",
       "std               NaN\n",
       "min      3.022063e+00\n",
       "25%      1.675616e+02\n",
       "50%      3.241789e+02\n",
       "75%      7.608293e+02\n",
       "max               inf\n",
       "Name: km_per_driving_day, dtype: float64"
      ]
     },
     "execution_count": 36,
     "metadata": {},
     "output_type": "execute_result"
    }
   ],
   "source": [
    "data['km_per_driving_day'] = data['driven_km_drives'] / data['driving_days']\n",
    "\n",
    "# 2. Call `describe()` on the new column\n",
    "data['km_per_driving_day'].describe()"
   ]
  },
  {
   "cell_type": "markdown",
   "id": "e70e151f",
   "metadata": {},
   "source": [
    "C'est le résultat de la présence de valeurs nulles dans la colonne driving_days. "
   ]
  },
  {
   "cell_type": "code",
   "execution_count": 37,
   "id": "f91c0ff0",
   "metadata": {},
   "outputs": [
    {
     "data": {
      "text/plain": [
       "count    14299.000000\n",
       "mean       581.942399\n",
       "std       1038.254509\n",
       "min          0.000000\n",
       "25%        136.168003\n",
       "50%        273.301012\n",
       "75%        558.018761\n",
       "max      15420.234110\n",
       "Name: km_per_driving_day, dtype: float64"
      ]
     },
     "execution_count": 37,
     "metadata": {},
     "output_type": "execute_result"
    }
   ],
   "source": [
    "data.loc[data['km_per_driving_day']==np.inf, 'km_per_driving_day'] = 0\n",
    "\n",
    "# 2. Confirm that it worked\n",
    "data['km_per_driving_day'].describe()"
   ]
  },
  {
   "cell_type": "markdown",
   "id": "4fd8c9f2",
   "metadata": {},
   "source": [
    "La valeur maximale est de 15 420 kilomètres par jour de conduite. Ce chiffre est physiquement impossible à atteindre. Conduire à 100 km/h pendant 12 heures représente 1 200 km. Il est peu probable que de nombreuses personnes aient fait une moyenne supérieure à ce chiffre chaque jour de conduite. Par conséquent, pour l'instant, nous ne tenons pas compte des lignes où la distance indiquée dans cette colonne est supérieure à 1 200 km.\n",
    "\n",
    "Tracer un histogramme de la nouvelle colonne km_par_jour_de_conduite, en ignorant les utilisateurs dont les valeurs sont supérieures à 1 200 km. Chaque barre doit être de la même longueur et avoir deux couleurs, l'une représentant le pourcentage d'utilisateurs de cette barre qui ont changé et l'autre représentant le pourcentage d'utilisateurs qui ont été retenus. "
   ]
  },
  {
   "cell_type": "code",
   "execution_count": 38,
   "id": "5f30028e",
   "metadata": {},
   "outputs": [
    {
     "data": {
      "image/png": "[encoded data removed]",
      "text/plain": [
       "<Figure size 864x360 with 1 Axes>"
      ]
     },
     "metadata": {
      "needs_background": "light"
     },
     "output_type": "display_data"
    }
   ],
   "source": [
    "plt.figure(figsize=(12,5))\n",
    "sns.histplot(data=data,\n",
    "             x='km_per_driving_day',\n",
    "             bins=range(0,1201,20),\n",
    "             hue='label',\n",
    "             multiple='fill')\n",
    "plt.ylabel('%', rotation=0)\n",
    "plt.title('Churn rate by mean km per driving day');"
   ]
  },
  {
   "cell_type": "markdown",
   "id": "4abf32b5",
   "metadata": {},
   "source": [
    "Le taux de désabonnement tend à augmenter à mesure que la distance moyenne parcourue quotidiennement augmente. Il serait intéressant d'étudier plus en détail les raisons pour lesquelles les utilisateurs de longues distances cessent d'utiliser l'application."
   ]
  },
  {
   "cell_type": "markdown",
   "id": "f3224a9e",
   "metadata": {},
   "source": [
    "#### Churn rate per number of driving days"
   ]
  },
  {
   "cell_type": "code",
   "execution_count": 39,
   "id": "d4771a68",
   "metadata": {},
   "outputs": [
    {
     "data": {
      "image/png": "[encoded data removed]",
      "text/plain": [
       "<Figure size 864x360 with 1 Axes>"
      ]
     },
     "metadata": {
      "needs_background": "light"
     },
     "output_type": "display_data"
    }
   ],
   "source": [
    "plt.figure(figsize=(12,5))\n",
    "sns.histplot(data=data,\n",
    "             x='driving_days',\n",
    "             bins=range(1,32),\n",
    "             hue='label',\n",
    "             multiple='fill',\n",
    "             discrete=True)\n",
    "plt.ylabel('%', rotation=0)\n",
    "plt.title('Churn rate per driving day');"
   ]
  },
  {
   "cell_type": "markdown",
   "id": "8f52cca7",
   "metadata": {},
   "source": [
    "Le taux de désabonnement est le plus élevé chez les personnes qui n'ont pas beaucoup utilisé Waze au cours du mois précédent. Plus ils ont utilisé l'application, moins ils sont susceptibles de la quitter. Alors que 40 % des utilisateurs qui n'ont pas du tout utilisé l'application le mois dernier l'ont quittée, aucun utilisateur ayant utilisé l'application pendant 30 jours ne l'a quittée.\n",
    "\n",
    "Cela n'est pas surprenant. Si les personnes qui utilisent beaucoup l'application la quittent, c'est probablement qu'elles ne sont pas satisfaites. Lorsque les personnes qui n'utilisent pas l'application la quittent, cela peut être le résultat d'une insatisfaction dans le passé, ou cela peut indiquer un besoin moindre d'une application de navigation. Peut-être ont-ils déménagé dans une ville dotée de bons transports publics et n'ont-ils plus besoin de conduire ?"
   ]
  },
  {
   "cell_type": "markdown",
   "id": "b9915bd9",
   "metadata": {},
   "source": [
    "#### Proportion of sessions that occurred in the last month"
   ]
  },
  {
   "cell_type": "markdown",
   "id": "33e75edc",
   "metadata": {},
   "source": [
    "Créer une nouvelle colonne \"percent_sessions_in_last_month\" qui représente le pourcentage des sessions totales de chaque utilisateur qui ont été enregistrées au cours de leur dernier mois d'utilisation."
   ]
  },
  {
   "cell_type": "code",
   "execution_count": 40,
   "id": "f14c7dd2",
   "metadata": {},
   "outputs": [],
   "source": [
    "data['percent_sessions_in_last_month'] = data['sessions'] / data['total_sessions']"
   ]
  },
  {
   "cell_type": "code",
   "execution_count": 41,
   "id": "0a8c7c17",
   "metadata": {},
   "outputs": [
    {
     "data": {
      "text/plain": [
       "0.4243102549137284"
      ]
     },
     "execution_count": 41,
     "metadata": {},
     "output_type": "execute_result"
    }
   ],
   "source": [
    "data['percent_sessions_in_last_month'].median()"
   ]
  },
  {
   "cell_type": "code",
   "execution_count": 42,
   "id": "29de9109",
   "metadata": {},
   "outputs": [
    {
     "name": "stdout",
     "output_type": "stream",
     "text": [
      "Median: 0.4\n"
     ]
    },
    {
     "data": {
      "image/png": "[encoded data removed]",
      "text/plain": [
       "<Figure size 576x432 with 1 Axes>"
      ]
     },
     "metadata": {
      "needs_background": "light"
     },
     "output_type": "display_data"
    }
   ],
   "source": [
    "histogrammer('percent_sessions_in_last_month',\n",
    "             hue=data['label'],\n",
    "             multiple='layer',\n",
    "             median_text=False)"
   ]
  },
  {
   "cell_type": "code",
   "execution_count": 43,
   "id": "a2bea94b",
   "metadata": {},
   "outputs": [
    {
     "data": {
      "text/plain": [
       "1749.0"
      ]
     },
     "execution_count": 43,
     "metadata": {},
     "output_type": "execute_result"
    }
   ],
   "source": [
    "data['n_days_after_onboarding'].median()"
   ]
  },
  {
   "cell_type": "markdown",
   "id": "9424bb87",
   "metadata": {},
   "source": [
    "La moitié des personnes figurant dans l'ensemble de données ont effectué 40 % ou plus de leurs sessions au cours du dernier mois, alors que la durée médiane globale depuis l'intégration est de près de cinq ans.\n",
    "\n",
    "Créer un histogramme de \"n_days_after_onboarding\" pour les personnes dont 40 % ou plus des sessions totales ont eu lieu au cours du dernier mois."
   ]
  },
  {
   "cell_type": "code",
   "execution_count": 44,
   "id": "7ff15078",
   "metadata": {},
   "outputs": [
    {
     "data": {
      "image/png": "[encoded data removed]",
      "text/plain": [
       "<Figure size 360x216 with 1 Axes>"
      ]
     },
     "metadata": {
      "needs_background": "light"
     },
     "output_type": "display_data"
    }
   ],
   "source": [
    "data1 = data.loc[data['percent_sessions_in_last_month']>=0.4]\n",
    "plt.figure(figsize=(5,3))\n",
    "sns.histplot(x=data1['n_days_after_onboarding'])\n",
    "plt.title('Num. days after onboarding for users with >=40% sessions in last month');"
   ]
  },
  {
   "cell_type": "markdown",
   "id": "02570d56",
   "metadata": {},
   "source": [
    "Le nombre de jours écoulés depuis l'intégration des utilisateurs dont 40 % ou plus des sessions totales ont eu lieu au cours du dernier mois est une distribution uniforme. C'est très étrange. Il convient de demander pourquoi tant d'utilisateurs de longue date ont soudainement utilisé l'application de manière aussi intensive au cours du dernier mois."
   ]
  },
  {
   "cell_type": "markdown",
   "id": "fcb8b656",
   "metadata": {},
   "source": [
    "### Handling outliers"
   ]
  },
  {
   "cell_type": "code",
   "execution_count": 45,
   "id": "190e4a05",
   "metadata": {},
   "outputs": [],
   "source": [
    "def outlier_imputer(column_name, percentile):\n",
    "    # Calculate threshold\n",
    "    threshold = data[column_name].quantile(percentile)\n",
    "    data.loc[data[column_name] > threshold, column_name] = threshold\n",
    "\n",
    "    print('{:>25} | percentile: {} | threshold: {}'.format(column_name, percentile, threshold))"
   ]
  },
  {
   "cell_type": "code",
   "execution_count": 46,
   "id": "fdfa6f1d",
   "metadata": {},
   "outputs": [
    {
     "name": "stdout",
     "output_type": "stream",
     "text": [
      "                 sessions | percentile: 0.95 | threshold: 243.0\n",
      "                   drives | percentile: 0.95 | threshold: 200.0\n",
      "           total_sessions | percentile: 0.95 | threshold: 455.4394923899998\n",
      "         driven_km_drives | percentile: 0.95 | threshold: 8898.716274999999\n",
      "  duration_minutes_drives | percentile: 0.95 | threshold: 4668.180091799999\n"
     ]
    }
   ],
   "source": [
    "for column in ['sessions', 'drives', 'total_sessions',\n",
    "               'driven_km_drives', 'duration_minutes_drives']:\n",
    "               outlier_imputer(column, 0.95)"
   ]
  },
  {
   "cell_type": "code",
   "execution_count": 47,
   "id": "503ce2b1",
   "metadata": {},
   "outputs": [
    {
     "data": {
      "text/html": [
       "<div>\n",
       "<style scoped>\n",
       "    .dataframe tbody tr th:only-of-type {\n",
       "        vertical-align: middle;\n",
       "    }\n",
       "\n",
       "    .dataframe tbody tr th {\n",
       "        vertical-align: top;\n",
       "    }\n",
       "\n",
       "    .dataframe thead th {\n",
       "        text-align: right;\n",
       "    }\n",
       "</style>\n",
       "<table border=\"1\" class=\"dataframe\">\n",
       "  <thead>\n",
       "    <tr style=\"text-align: right;\">\n",
       "      <th></th>\n",
       "      <th>ID</th>\n",
       "      <th>sessions</th>\n",
       "      <th>drives</th>\n",
       "      <th>total_sessions</th>\n",
       "      <th>n_days_after_onboarding</th>\n",
       "      <th>total_navigations_fav1</th>\n",
       "      <th>total_navigations_fav2</th>\n",
       "      <th>driven_km_drives</th>\n",
       "      <th>duration_minutes_drives</th>\n",
       "      <th>activity_days</th>\n",
       "      <th>driving_days</th>\n",
       "      <th>km_per_driving_day</th>\n",
       "      <th>percent_sessions_in_last_month</th>\n",
       "    </tr>\n",
       "  </thead>\n",
       "  <tbody>\n",
       "    <tr>\n",
       "      <th>count</th>\n",
       "      <td>14299.000000</td>\n",
       "      <td>14299.000000</td>\n",
       "      <td>14299.000000</td>\n",
       "      <td>14299.000000</td>\n",
       "      <td>14299.000000</td>\n",
       "      <td>14299.000000</td>\n",
       "      <td>14299.000000</td>\n",
       "      <td>14299.000000</td>\n",
       "      <td>14299.000000</td>\n",
       "      <td>14299.000000</td>\n",
       "      <td>14299.000000</td>\n",
       "      <td>14299.000000</td>\n",
       "      <td>14299.000000</td>\n",
       "    </tr>\n",
       "    <tr>\n",
       "      <th>mean</th>\n",
       "      <td>7503.573117</td>\n",
       "      <td>76.539688</td>\n",
       "      <td>63.964683</td>\n",
       "      <td>183.717304</td>\n",
       "      <td>1751.822505</td>\n",
       "      <td>121.747395</td>\n",
       "      <td>29.638296</td>\n",
       "      <td>3944.558631</td>\n",
       "      <td>1792.911210</td>\n",
       "      <td>15.544653</td>\n",
       "      <td>12.182530</td>\n",
       "      <td>581.942399</td>\n",
       "      <td>0.449837</td>\n",
       "    </tr>\n",
       "    <tr>\n",
       "      <th>std</th>\n",
       "      <td>4331.207621</td>\n",
       "      <td>67.243178</td>\n",
       "      <td>55.127927</td>\n",
       "      <td>118.720520</td>\n",
       "      <td>1008.663834</td>\n",
       "      <td>147.713428</td>\n",
       "      <td>45.350890</td>\n",
       "      <td>2218.358258</td>\n",
       "      <td>1224.329759</td>\n",
       "      <td>9.016088</td>\n",
       "      <td>7.833835</td>\n",
       "      <td>1038.254509</td>\n",
       "      <td>0.286863</td>\n",
       "    </tr>\n",
       "    <tr>\n",
       "      <th>min</th>\n",
       "      <td>0.000000</td>\n",
       "      <td>0.000000</td>\n",
       "      <td>0.000000</td>\n",
       "      <td>0.220211</td>\n",
       "      <td>4.000000</td>\n",
       "      <td>0.000000</td>\n",
       "      <td>0.000000</td>\n",
       "      <td>60.441250</td>\n",
       "      <td>18.282082</td>\n",
       "      <td>0.000000</td>\n",
       "      <td>0.000000</td>\n",
       "      <td>0.000000</td>\n",
       "      <td>0.000000</td>\n",
       "    </tr>\n",
       "    <tr>\n",
       "      <th>25%</th>\n",
       "      <td>3749.500000</td>\n",
       "      <td>23.000000</td>\n",
       "      <td>20.000000</td>\n",
       "      <td>90.457733</td>\n",
       "      <td>878.500000</td>\n",
       "      <td>10.000000</td>\n",
       "      <td>0.000000</td>\n",
       "      <td>2217.319909</td>\n",
       "      <td>840.181344</td>\n",
       "      <td>8.000000</td>\n",
       "      <td>5.000000</td>\n",
       "      <td>136.168003</td>\n",
       "      <td>0.196890</td>\n",
       "    </tr>\n",
       "    <tr>\n",
       "      <th>50%</th>\n",
       "      <td>7504.000000</td>\n",
       "      <td>56.000000</td>\n",
       "      <td>48.000000</td>\n",
       "      <td>158.718571</td>\n",
       "      <td>1749.000000</td>\n",
       "      <td>71.000000</td>\n",
       "      <td>9.000000</td>\n",
       "      <td>3496.545617</td>\n",
       "      <td>1479.394387</td>\n",
       "      <td>16.000000</td>\n",
       "      <td>12.000000</td>\n",
       "      <td>273.301012</td>\n",
       "      <td>0.424310</td>\n",
       "    </tr>\n",
       "    <tr>\n",
       "      <th>75%</th>\n",
       "      <td>11257.500000</td>\n",
       "      <td>111.000000</td>\n",
       "      <td>93.000000</td>\n",
       "      <td>253.540450</td>\n",
       "      <td>2627.500000</td>\n",
       "      <td>178.000000</td>\n",
       "      <td>43.000000</td>\n",
       "      <td>5299.972162</td>\n",
       "      <td>2466.928876</td>\n",
       "      <td>23.000000</td>\n",
       "      <td>19.000000</td>\n",
       "      <td>558.018761</td>\n",
       "      <td>0.687251</td>\n",
       "    </tr>\n",
       "    <tr>\n",
       "      <th>max</th>\n",
       "      <td>14998.000000</td>\n",
       "      <td>243.000000</td>\n",
       "      <td>200.000000</td>\n",
       "      <td>455.439492</td>\n",
       "      <td>3500.000000</td>\n",
       "      <td>1236.000000</td>\n",
       "      <td>415.000000</td>\n",
       "      <td>8898.716275</td>\n",
       "      <td>4668.180092</td>\n",
       "      <td>31.000000</td>\n",
       "      <td>30.000000</td>\n",
       "      <td>15420.234110</td>\n",
       "      <td>1.530637</td>\n",
       "    </tr>\n",
       "  </tbody>\n",
       "</table>\n",
       "</div>"
      ],
      "text/plain": [
       "                 ID      sessions        drives  total_sessions  \\\n",
       "count  14299.000000  14299.000000  14299.000000    14299.000000   \n",
       "mean    7503.573117     76.539688     63.964683      183.717304   \n",
       "std     4331.207621     67.243178     55.127927      118.720520   \n",
       "min        0.000000      0.000000      0.000000        0.220211   \n",
       "25%     3749.500000     23.000000     20.000000       90.457733   \n",
       "50%     7504.000000     56.000000     48.000000      158.718571   \n",
       "75%    11257.500000    111.000000     93.000000      253.540450   \n",
       "max    14998.000000    243.000000    200.000000      455.439492   \n",
       "\n",
       "       n_days_after_onboarding  total_navigations_fav1  \\\n",
       "count             14299.000000            14299.000000   \n",
       "mean               1751.822505              121.747395   \n",
       "std                1008.663834              147.713428   \n",
       "min                   4.000000                0.000000   \n",
       "25%                 878.500000               10.000000   \n",
       "50%                1749.000000               71.000000   \n",
       "75%                2627.500000              178.000000   \n",
       "max                3500.000000             1236.000000   \n",
       "\n",
       "       total_navigations_fav2  driven_km_drives  duration_minutes_drives  \\\n",
       "count            14299.000000      14299.000000             14299.000000   \n",
       "mean                29.638296       3944.558631              1792.911210   \n",
       "std                 45.350890       2218.358258              1224.329759   \n",
       "min                  0.000000         60.441250                18.282082   \n",
       "25%                  0.000000       2217.319909               840.181344   \n",
       "50%                  9.000000       3496.545617              1479.394387   \n",
       "75%                 43.000000       5299.972162              2466.928876   \n",
       "max                415.000000       8898.716275              4668.180092   \n",
       "\n",
       "       activity_days  driving_days  km_per_driving_day  \\\n",
       "count   14299.000000  14299.000000        14299.000000   \n",
       "mean       15.544653     12.182530          581.942399   \n",
       "std         9.016088      7.833835         1038.254509   \n",
       "min         0.000000      0.000000            0.000000   \n",
       "25%         8.000000      5.000000          136.168003   \n",
       "50%        16.000000     12.000000          273.301012   \n",
       "75%        23.000000     19.000000          558.018761   \n",
       "max        31.000000     30.000000        15420.234110   \n",
       "\n",
       "       percent_sessions_in_last_month  \n",
       "count                    14299.000000  \n",
       "mean                         0.449837  \n",
       "std                          0.286863  \n",
       "min                          0.000000  \n",
       "25%                          0.196890  \n",
       "50%                          0.424310  \n",
       "75%                          0.687251  \n",
       "max                          1.530637  "
      ]
     },
     "execution_count": 47,
     "metadata": {},
     "output_type": "execute_result"
    }
   ],
   "source": [
    "data.describe()"
   ]
  },
  {
   "cell_type": "markdown",
   "id": "104030c1",
   "metadata": {},
   "source": [
    "L'analyse a révélé que le taux de désabonnement global est d'environ 17 %, et que ce taux est le même pour les utilisateurs d'iPhone et les utilisateurs d'Android.\n",
    "\n",
    "En outre, l'EDA a révélé que les utilisateurs qui parcourent de très longues distances pendant leurs jours de conduite sont plus susceptibles de se désabonner, alors que les utilisateurs qui conduisent plus souvent sont moins susceptibles de se désabonner."
   ]
  },
  {
   "cell_type": "markdown",
   "id": "69157351",
   "metadata": {},
   "source": [
    "## Conclusion"
   ]
  },
  {
   "cell_type": "markdown",
   "id": "4fc79785",
   "metadata": {},
   "source": [
    "* La presque totalité des variables ont été soit très fortement asymétriques, soit distribuées de manière uniforme. Pour les distributions à angle droit, cela signifie que la plupart des utilisateurs avaient des valeurs situées dans la partie inférieure de la plage pour cette variable. Pour les distributions uniformes, cela signifie que les utilisateurs avaient généralement la même probabilité d'avoir des valeurs situées à l'intérieur de l'intervalle de cette variable."
   ]
  },
  {
   "cell_type": "markdown",
   "id": "fbb84b28",
   "metadata": {},
   "source": [
    "* La plupart des données ne posaient pas de problème et rien n'indiquait qu'une seule variable était complètement erronée. Cependant, plusieurs variables présentaient des valeurs aberrantes très improbables, voire impossibles, telles que driven_km_drives. Certaines variables mensuelles pourraient également poser problème, comme activity_days et driving_days, car l'une a une valeur maximale de 31 alors que l'autre a une valeur maximale de 30, ce qui indique que la collecte des données n'a peut-être pas eu lieu au cours du même mois pour ces deux variables."
   ]
  },
  {
   "cell_type": "markdown",
   "id": "80a91c21",
   "metadata": {},
   "source": [
    "* Moins de 18% des utilisateurs ont abandonné, et ~82% ont été restés."
   ]
  },
  {
   "cell_type": "markdown",
   "id": "5d819d32",
   "metadata": {},
   "source": [
    "* La distance parcourue par jour de conduite a une corrélation positive avec le désabonnement des utilisateurs. Plus un utilisateur parcourt de kilomètres par jour de conduite, plus il est susceptible de quitter son véhicule. D'autre part, le nombre de jours de conduite a une corrélation négative avec le désabonnement. Les utilisateurs qui ont conduit plus de jours au cours du dernier mois étaient moins susceptibles de changer de véhicule."
   ]
  },
  {
   "cell_type": "markdown",
   "id": "b66758f1",
   "metadata": {},
   "source": [
    "* Les utilisateurs, quelle que soit leur ancienneté (de tout nouveau à environ 10 ans), sont représentés de manière relativement homogène dans les données. Ceci est confirmé par l'histogramme pour n_days_after_onboarding, qui révèle une distribution uniforme pour cette variable.\n"
   ]
  }
 ],
 "metadata": {
  "kernelspec": {
   "display_name": "Python 3 (ipykernel)",
   "language": "python",
   "name": "python3"
  },
  "language_info": {
   "codemirror_mode": {
    "name": "ipython",
    "version": 3
   },
   "file_extension": ".py",
   "mimetype": "text/x-python",
   "name": "python",
   "nbconvert_exporter": "python",
   "pygments_lexer": "ipython3",
   "version": "3.11.5"
  }
 },
 "nbformat": 4,
 "nbformat_minor": 5
}
